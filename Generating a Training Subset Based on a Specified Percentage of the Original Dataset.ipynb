{
 "cells": [
  {
   "cell_type": "markdown",
   "id": "113213d8",
   "metadata": {},
   "source": [
    "## Setup"
   ]
  },
  {
   "cell_type": "code",
   "execution_count": 1,
   "id": "f0daca38",
   "metadata": {},
   "outputs": [],
   "source": [
    "import os\n",
    "import shutil\n",
    "import random"
   ]
  },
  {
   "cell_type": "markdown",
   "id": "742c0246",
   "metadata": {},
   "source": [
    "## The table data met labels (copy of the collect data)¶"
   ]
  },
  {
   "cell_type": "code",
   "execution_count": 2,
   "id": "5dc76345",
   "metadata": {},
   "outputs": [],
   "source": [
    "# Create an array containing the table data with an index\n",
    "table_data = [\n",
    "    [\"Label\", \"Gaze Direction\", \"Sentence\"],\n",
    "    [\"forward\", \"Forward\", \"Look forward.\"],\n",
    "    [\"left\", \"Left\", \"Look to the left.\"],\n",
    "    [\"right\", \"Right\", \"Look to the right.\"],\n",
    "    [\"mirror_interior\", \"Interior Mirror\", \"Look at the interior mirror.\"],\n",
    "    [\"mirror_right\", \"Right Side Mirror\", \"Look at the right side mirror.\"],\n",
    "    [\"mirror_left\", \"Left Side Mirror\", \"Look at the left side mirror.\"],\n",
    "    [\"shoulder_right\", \"Right Shoulder\", \"Look over your right shoulder.\"],\n",
    "    [\"shoulder_left\", \"Left Shoulder\", \"Look over your left shoulder.\"],\n",
    "    [\"dashboard_straight_down\", \"Dashboard Straight Down\", \"Look straight down at the dashboard.\"],\n",
    "    [\"dashboard_down_right\", \"Dashboard Down Towards Center Console\", \"Look down towards the center console.\"],\n",
    "    [\"forward_right\", \"Forward Right\", \"Look forward and to the right.\"],\n",
    "    [\"forward_left\", \"Forward Left\", \"Look forward and to the left.\"]\n",
    "]\n",
    "\n",
    "# To access, for example, the row for \"forward_right\" and its Sentence column:\n",
    "# Note that Python is 0-indexed, so row 11 (forward_right) is at index 10 in the array\n",
    "# print(table_data[11][2])  # Output: Look forward and to the right.\n"
   ]
  },
  {
   "cell_type": "markdown",
   "id": "2c48cf20",
   "metadata": {},
   "source": [
    "### Global Variables"
   ]
  },
  {
   "cell_type": "code",
   "execution_count": 3,
   "id": "61ebb65b",
   "metadata": {},
   "outputs": [],
   "source": [
    "# General path for the data\n",
    "base_path = r\"C:\\GazeDetection\\test_recording_correct_upload_3\"\n",
    "\n",
    "# Extract labels assuming table_data is defined as above\n",
    "# Assuming the first row is headers, skip it\n",
    "labels = [row[0] for row in table_data[1:]]\n",
    "\n",
    "\n",
    "# Set types of datasets\n",
    "types = [\"train\", \"test\", \"val\"]\n",
    "\n",
    "# Set the percentage of files to copy\n",
    "copy_percentage = 25  # Adjust as needed"
   ]
  },
  {
   "cell_type": "markdown",
   "id": "e3b80984",
   "metadata": {},
   "source": [
    "## Copies a specified percentage from the total (base_path) to a new set (base_path_percent)"
   ]
  },
  {
   "cell_type": "code",
   "execution_count": null,
   "id": "98dd478b",
   "metadata": {},
   "outputs": [],
   "source": [
    "# New main directory based on percentage\n",
    "new_base_path = f\"{base_path}_{copy_percentage}percent\"\n",
    "if not os.path.exists(new_base_path):\n",
    "    os.makedirs(new_base_path, exist_ok=True)\n",
    "    # Create subdirectories within the new main directory\n",
    "    for type in types:\n",
    "        os.makedirs(os.path.join(new_base_path, type), exist_ok=True)\n",
    "\n",
    "for label in labels:\n",
    "    print(f\"Processing label: {label}\")\n",
    "    for type in types:\n",
    "        source_dir = os.path.join(base_path, type, label)\n",
    "        dest_dir = os.path.join(new_base_path, type, label)\n",
    "        if not os.path.exists(dest_dir):\n",
    "            os.makedirs(dest_dir, exist_ok=True)\n",
    "        \n",
    "        files = os.listdir(source_dir)\n",
    "        total_files = len(files)\n",
    "        random.shuffle(files)  # Shuffle to select random files\n",
    "        num_files_to_copy = max(1, len(files) * copy_percentage // 100)  # Calculate specified percentage\n",
    "        \n",
    "        for file in files[:num_files_to_copy]:\n",
    "            source_file = os.path.join(source_dir, file)\n",
    "            destination_file = os.path.join(dest_dir, file)\n",
    "            shutil.copy2(source_file, destination_file)  # Copy files\n",
    "        \n",
    "        print(f\"{type.capitalize()} directory: {total_files} files.\")\n",
    "        print(f\"Copied {num_files_to_copy} files to {dest_dir} for {label}\")"
   ]
  },
  {
   "cell_type": "code",
   "execution_count": null,
   "id": "aa5d6e64",
   "metadata": {},
   "outputs": [],
   "source": []
  }
 ],
 "metadata": {
  "kernelspec": {
   "display_name": "Python 3 (ipykernel)",
   "language": "python",
   "name": "python3"
  },
  "language_info": {
   "codemirror_mode": {
    "name": "ipython",
    "version": 3
   },
   "file_extension": ".py",
   "mimetype": "text/x-python",
   "name": "python",
   "nbconvert_exporter": "python",
   "pygments_lexer": "ipython3",
   "version": "3.9.12"
  }
 },
 "nbformat": 4,
 "nbformat_minor": 5
}
