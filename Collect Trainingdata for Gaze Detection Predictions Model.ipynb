{
 "cells": [
  {
   "cell_type": "markdown",
   "id": "a27a5691",
   "metadata": {},
   "source": [
    "Install the neccessary libraries"
   ]
  },
  {
   "cell_type": "markdown",
   "id": "7e79dd65",
   "metadata": {},
   "source": [
    "# Setup Libraries "
   ]
  },
  {
   "cell_type": "markdown",
   "id": "6d765793",
   "metadata": {},
   "source": [
    "Install the necessary libraries:\n",
    "    - OpenCV: (Open Source Computer Vision Library)\n",
    "    - NumPy: (Numerical Python)\n",
    "    - gTTS: (Google Text-to-Speech)\n",
    "    - Pillow: (Python Imaging Library)\n",
    "    - pyttsx3: (Python Text-to-Speech version 3)\n",
    "\n",
    "Later:\n",
    "    - MediaPipe (voor b.v. realtime acties, landmarks etc.) "
   ]
  },
  {
   "cell_type": "code",
   "execution_count": null,
   "id": "36fc8226",
   "metadata": {
    "scrolled": true
   },
   "outputs": [],
   "source": [
    "pip install opencv-python numpy gTTS Pillow pyttsx3 SpeechRecognition PyAudio\n"
   ]
  },
  {
   "cell_type": "code",
   "execution_count": 10,
   "id": "81c4fc97",
   "metadata": {},
   "outputs": [],
   "source": [
    "import cv2\n",
    "import numpy as np\n",
    "import pyttsx3\n",
    "import os\n",
    "import time\n",
    "import random\n",
    "from PIL import Image\n",
    "from gtts import gTTS\n",
    "import speech_recognition as sr\n",
    "\n"
   ]
  },
  {
   "cell_type": "markdown",
   "id": "45365a32",
   "metadata": {},
   "source": [
    "# Setup Array, Variables and Directories"
   ]
  },
  {
   "cell_type": "markdown",
   "id": "e30b08c3",
   "metadata": {},
   "source": [
    "The following viewing directions are distinguished and will be assigned corresponding labels:\n",
    "\n",
    "The eight specific gaze directions that are distinguished in the driving procedure:\n",
    "\n",
    "| Label            | Gaze Direction   |\n",
    "|------------------|------------------|\n",
    "| forward          | Forward          |\n",
    "| left             | Left             |\n",
    "| right            | Right            |\n",
    "| mirror_interior  | Interior Mirror  |\n",
    "| mirror_right     | Right Side Mirror|\n",
    "| mirror_left      | Left Side Mirror |\n",
    "| shoulder_right   | Right Shoulder   |\n",
    "| shoulder_left    | Left Shoulder    |\n",
    "\n",
    "The five additional gaze directions added:\n",
    "\n",
    "| Label                     | Gaze Direction                        |\n",
    "|---------------------------|---------------------------------------|\n",
    "| dashboard_straight_down   | Dashboard Straight Down               |\n",
    "| dashboard_down_right      | Dashboard Down Towards Center Console |\n",
    "| forward_right             | Forward Right                         |\n",
    "| forward_left              | Forward Left                          |"
   ]
  },
  {
   "cell_type": "markdown",
   "id": "f3146fb7",
   "metadata": {},
   "source": [
    "## setup Array \n",
    "\n",
    "This can also be parameterized (using a configuration file). Initially, let's proceed in this manner."
   ]
  },
  {
   "cell_type": "code",
   "execution_count": 11,
   "id": "3b48bfae",
   "metadata": {},
   "outputs": [],
   "source": [
    "# Create an array containing the table data with an index\n",
    "table_data = [\n",
    "    [\"Label\", \"Gaze Direction\", \"Sentence\"],\n",
    "    [\"forward\", \"Forward\", \"Look forward.\"],\n",
    "    [\"left\", \"Left\", \"Look to the left.\"],\n",
    "    [\"right\", \"Right\", \"Look to the right.\"],\n",
    "    [\"mirror_interior\", \"Interior Mirror\", \"Look at the interior mirror.\"],\n",
    "    [\"mirror_right\", \"Right Side Mirror\", \"Look at the right side mirror.\"],\n",
    "    [\"mirror_left\", \"Left Side Mirror\", \"Look at the left side mirror.\"],\n",
    "    [\"shoulder_right\", \"Right Shoulder\", \"Look over your right shoulder.\"],\n",
    "    [\"shoulder_left\", \"Left Shoulder\", \"Look over your left shoulder.\"],\n",
    "    [\"dashboard_straight_down\", \"Dashboard Straight Down\", \"Look straight down at the dashboard.\"],\n",
    "    [\"dashboard_down_right\", \"Dashboard Down Towards Center Console\", \"Look down towards the center console.\"],\n",
    "    [\"forward_right\", \"Forward Right\", \"Look forward and to the right.\"],\n",
    "    [\"forward_left\", \"Forward Left\", \"Look forward and to the left.\"]\n",
    "]\n",
    "\n",
    "# To access, for example, the row for \"forward_right\" and its Sentence column:\n",
    "# Note that Python is 0-indexed, so row 11 (forward_right) is at index 10 in the array\n",
    "# print(table_data[11][2])  # Output: Look forward and to the right.\n"
   ]
  },
  {
   "cell_type": "markdown",
   "id": "5f2152a0",
   "metadata": {},
   "source": [
    "## setup Global Variables"
   ]
  },
  {
   "cell_type": "code",
   "execution_count": 3,
   "id": "8311b72f",
   "metadata": {},
   "outputs": [],
   "source": [
    "import speech_recognition as sr\n",
    "\n",
    "# Declareer globale variabelen\n",
    "global recording_duration\n",
    "global base_path\n",
    "global recording_name\n",
    "global current_save_path\n",
    "global number_of_cameras\n",
    "global number_of_subfolders\n",
    "global max_selecties_per_label\n",
    "global r\n",
    "global label_counts\n",
    "global audio\n",
    "\n",
    "# Initialiseer de variabelen\n",
    "recording_duration = 5  # Duration of the recording in seconds\n",
    "base_path = \"C:/GazeDetection\"  # Base path for video storage\n",
    "recording_name = \"recording_10042024_Wim_v1\"\n",
    "current_save_path = None # Current save path, dynamically updated\n",
    "number_of_cameras = 2\n",
    "number_of_subfolders = 10  # Assuming you want 10 subfolders as mentioned before\n",
    "max_selecties_per_label = 10  # Max selections pro label\n",
    "\n",
    "# Initialiseer de speech recognizer\n",
    "r = sr.Recognizer()\n",
    "\n",
    "# Initialize a dictionary to track how many times each label has been selected, excluding the header.\n",
    "# Start every label's count at 0.\n",
    "label_counts = {data[0]: 0 for data in table_data[1:]}  # Skip the header row\n"
   ]
  },
  {
   "cell_type": "markdown",
   "id": "72c8e316",
   "metadata": {},
   "source": [
    "## Setup Directory \n",
    "\n",
    "1. Create a folder in C:\\GazeDetection\\ and name it recording_<date><name><sequence_number>\n",
    "2. Within this folder, create folders named after the label of the gaze direction(s).\n",
    "3. In each folder, create subfolders pro camera\n",
    "3. In each camerafolder, create subfolders that are numbered, starting at 0 and ending at <number>.\n",
    "\n",
    "(The variables for name, sequence number, gaze direction(s), number of cameras and number can be parameterized)"
   ]
  },
  {
   "cell_type": "code",
   "execution_count": 4,
   "id": "2eb6da7a",
   "metadata": {},
   "outputs": [],
   "source": [
    "# Create the main directory\n",
    "recording_path = os.path.join(base_path, recording_name)\n",
    "os.makedirs(recording_path, exist_ok=True)\n",
    "\n",
    "# Create directories for each label and within those, subdirectories\n",
    "for data in table_data[1:]:  # Skip the header row\n",
    "    label = data[0]\n",
    "    label_path = os.path.join(recording_path, label)\n",
    "    os.makedirs(label_path, exist_ok=True)  # Create a directory for the label\n",
    "    \n",
    "    for j in range(1, number_of_subfolders + 1):\n",
    "        subfolder_name = str(j)\n",
    "        subfolder_path = os.path.join(label_path, subfolder_name)\n",
    "        os.makedirs(subfolder_path, exist_ok=True)  # Create subdirectories numbered 1 through 9 within each label directory\n"
   ]
  },
  {
   "cell_type": "markdown",
   "id": "72e6c3ca",
   "metadata": {},
   "source": [
    "# Define Procedures"
   ]
  },
  {
   "cell_type": "markdown",
   "id": "49849236",
   "metadata": {},
   "source": [
    "## Text to Speech\n",
    "\n",
    "Onderstaande nog verder uitzoeken, dit werkt voor een \"standaard\" engelse stem. Zet ik deze op NL (die op Windows wel geinstalleerd is) dan werkt het echter niet. Voor nu dus even in het Engels. Aanpassen Voor Windows 10/11: Taalpakketten controleren en installeren via instellingen > Tijd & Taal > Taal. De koppeling naar het lokale besturingssysteem is hier ook tricky, gaat niet 'zomaar' werken op elke laptop. "
   ]
  },
  {
   "cell_type": "code",
   "execution_count": 5,
   "id": "fdb02bf7",
   "metadata": {},
   "outputs": [],
   "source": [
    "def say_sentence(sentence):\n",
    "    \"\"\"\n",
    "    This procedure initializes the text-to-speech converter, adjusts the speaking rate,\n",
    "    and speaks out the given sentence.\n",
    "    \n",
    "    :param sentence: The text sentence to be spoken by the computer.\n",
    "    \"\"\"\n",
    "    # Initialize the converter\n",
    "    engine = pyttsx3.init()\n",
    "\n",
    "    # Retrieve the current speaking rate\n",
    "    rate = engine.getProperty('rate')\n",
    "\n",
    "    # Decrease the speaking rate (adjust the value as desired)\n",
    "    engine.setProperty('rate', rate - 80)\n",
    "\n",
    "    # Set the text to be spoken\n",
    "    text = sentence\n",
    "\n",
    "    # Make the computer speak\n",
    "    engine.say(text)\n",
    "\n",
    "    # Wait until the speaking is complete\n",
    "    engine.runAndWait()"
   ]
  },
  {
   "cell_type": "markdown",
   "id": "1f485601",
   "metadata": {},
   "source": [
    "# Make and save (random) video's \n",
    "\n",
    "Of course, this can be improved as well."
   ]
  },
  {
   "cell_type": "markdown",
   "id": "4d944c10",
   "metadata": {},
   "source": [
    "## update de global variables"
   ]
  },
  {
   "cell_type": "code",
   "execution_count": 8,
   "id": "ff2cfd01",
   "metadata": {},
   "outputs": [],
   "source": [
    "def select_label_and_prepare_recording():\n",
    "    global current_save_path, label_counts\n",
    "    if min(label_counts.values()) < 10:\n",
    "        available_labels = [label for label, count in label_counts.items() if count < 10]\n",
    "        chosen_label = random.choice(available_labels)\n",
    "        chosen_index = next(index for index, data in enumerate(table_data) if data[0] == chosen_label)\n",
    "        _, _, chosen_sentence = table_data[chosen_index]\n",
    "\n",
    "        # say sentence\n",
    "        say_sentence(chosen_sentence)\n",
    "        time.sleep(2) # wacht 2 seconden\n",
    "        say_sentence(\"Start\")\n",
    "\n",
    "        current_save_path = [os.path.join(base_path, recording_name, chosen_label, str(label_counts[chosen_label]+1))]\n",
    "        \n",
    "        label_counts[chosen_label] += 1\n",
    "    else:\n",
    "        print(\"Each procedure has been executed 10 times for each label.\")\n",
    "\n",
    " "
   ]
  },
  {
   "cell_type": "markdown",
   "id": "9809491a",
   "metadata": {},
   "source": [
    "## Check if the recording is correct or needs to be redone (under construction)\n",
    "\n",
    "Dit werkt 'n beetje, Google geeft heel erg vaak de \"UnkownValueError\" terug. Mischien helpt het om de audio mbv van de webcams op te nemen,samen te voegen en dat als input te gebruiken). "
   ]
  },
  {
   "cell_type": "code",
   "execution_count": null,
   "id": "f18d5b31",
   "metadata": {},
   "outputs": [],
   "source": [
    "def ask_and_process():\n",
    "    # Ask the user a question and process the input\n",
    "    question = \"Should this recording be deleted? Say Yes or No!\"\n",
    "    say_sentence(question)\n",
    "    \n",
    "    # Create a recognizer object\n",
    "    r = sr.Recognizer()\n",
    "\n",
    "    # Use the default microphone as the audio source\n",
    "    with sr.Microphone() as source:\n",
    "        audio = r.listen(source)\n",
    "    \n",
    "    # Use Google Speech Recognition to convert audio to text\n",
    "    try:\n",
    "        answer = r.recognize_google(audio, language='en-US')\n",
    "    except sr.UnknownValueError:\n",
    "        print(\"Google Speech Recognition could not understand audio\")\n",
    "        # Recall the function to ask the question again\n",
    "        ask_and_process()\n",
    "        return  # Exit the function if speech recognition fails\n",
    "    except sr.RequestError as e:\n",
    "        print(\"Could not request results from Google Speech Recognition service; {0}\".format(e))\n",
    "        return  # Exit the function if request fails\n",
    "    \n",
    "    if answer.lower() == 'yes':\n",
    "        print(\"You chose 'yes', we will continue.\")\n",
    "        # Do nothing\n",
    "    elif answer.lower() == 'no':\n",
    "        print(\"You chose 'no', we will stop here.\")\n",
    "        # Delete the video\n",
    "        os.remove(os.path.join(current_save_path[0], 'camera_1.avi'))\n",
    "        os.remove(os.path.join(current_save_path[0], 'camera_2.avi'))       \n",
    "        # Decrease the index\n",
    "        label_counts[chosen_label] -= 1\n",
    "    else:\n",
    "        print(\"Invalid answer, please enter 'yes' or 'no'.\")\n",
    "        # Recall the function to ask the question again\n",
    "        ask_and_process()\n"
   ]
  },
  {
   "cell_type": "markdown",
   "id": "3efc93cd",
   "metadata": {},
   "source": [
    "## Open the cameras and start de recording loop\n",
    "\n",
    "- Dingen die uitgezocht moeten worden:\n",
    "    - Zoom\n",
    "    - fps, resolutie\n",
    "    - Opslagformaat (avi, mp4 etc.)\n",
    "  \n",
    "  Hierin ook kijken wat het beste resultaat op levert. "
   ]
  },
  {
   "cell_type": "code",
   "execution_count": 9,
   "id": "e3645f10",
   "metadata": {},
   "outputs": [
    {
     "name": "stdout",
     "output_type": "stream",
     "text": [
      "All labels have been processed 10 times. Ending recording.\n"
     ]
    }
   ],
   "source": [
    "# Aannames: base_path, recording_name, table_data, number_of_cameras zijn gedefinieerd\n",
    "\n",
    "# Pas dit deel van je code aan\n",
    "cap1 = cv2.VideoCapture(1)  # Camera index 1\n",
    "cap2 = cv2.VideoCapture(2)  # Camera index 2\n",
    "\n",
    "# Voorbeeld: initialisatie van de VideoWriter objecten buiten de loop, heropen ze voor elke nieuwe opname\n",
    "out1 = None\n",
    "out2 = None\n",
    "\n",
    "while True:\n",
    "        \n",
    "    # Check if all labels have been selected 10 times\n",
    "    if min(label_counts.values()) >= 10:\n",
    "        print(\"All labels have been processed 10 times. Ending recording.\")\n",
    "        break  # End the loop\n",
    "        \n",
    "    # Check if it's time to start a new recording or if no recording is currently active\n",
    "    if current_save_path is None or time.time() - start_time >= recording_duration:\n",
    "        select_label_and_prepare_recording()  # Update the path and prepare for recording\n",
    "        start_time = time.time()  # Reset the start time for the new recording\n",
    "\n",
    "        if out1 is not None:\n",
    "            out1.release()\n",
    "            out2.release()\n",
    "\n",
    "        # Initialiseer de VideoWriter opnieuw voor een nieuwe file\n",
    "        fourcc = cv2.VideoWriter_fourcc(*'XVID')\n",
    "        # Deze doet het wel, ik vraag me alleen af of de kwaliteit afdoende is\n",
    "        out1 = cv2.VideoWriter(os.path.join(current_save_path[0], 'camera_1.avi'), fourcc, 20.0, (640, 480))\n",
    "        out2 = cv2.VideoWriter(os.path.join(current_save_path[0], 'camera_2.avi'), fourcc, 20.0, (640, 480))\n",
    "      \n",
    "        # Deze werken niet. Openen video geeft foutmelding\n",
    "        # out1 = cv2.VideoWriter(os.path.join(current_save_path[0], 'camera_1.avi'), fourcc, 0, (0, 0))\n",
    "        # out1 = cv2.VideoWriter(os.path.join(current_save_path[0], 'camera_1.avi'), fourcc, 30.0, (1920, 1080))\n",
    "        # out2 = cv2.VideoWriter(os.path.join(current_save_path[0], 'camera_2.avi'), fourcc, 0, (0, 0))\n",
    "        # out2 = cv2.VideoWriter(os.path.join(current_save_path[0], 'camera_2.avi'), fourcc, 30.0, (1920, 1080))\n",
    "        \n",
    "        # Definieer de gewenste resolutie en framerate\n",
    "        # resolution = (1920, 1080)  # Resolutie van 1920x1080 (1080p)\n",
    "        # fps = 30  # Framerate van 30 frames per seconde\n",
    "\n",
    "        # Initialiseer de VideoWriter objecten\n",
    "        # fourcc = cv2.VideoWriter_fourcc(*'mp4v')  # Codec voor het MP4-formaat\n",
    "        # out1 = cv2.VideoWriter(os.path.join(current_save_path[0], 'camera_1.mp4'), fourcc, fps, resolution)\n",
    "        # out2 = cv2.VideoWriter(os.path.join(current_save_path[0], 'camera_2.mp4', fourcc, fps, resolution)\n",
    "\n",
    "    ret1, frame1 = cap1.read()\n",
    "    ret2, frame2 = cap2.read()\n",
    "    \n",
    "    if ret1:\n",
    "        out1.write(frame1)\n",
    "        #imshow uitzetten, alleen voor debugging\n",
    "        #cv2.imshow('Camera 1', frame1)\n",
    "    if ret2:\n",
    "        out2.write(frame2)\n",
    "        #imshow uitzetten, alleen voor debugging\n",
    "        #cv2.imshow('Camera 2', frame2)\n",
    "\n",
    "    # this process for this moment on hold, the speech recognition wil not work correct\n",
    "    # ask_and_process()\n",
    "    \n",
    "    if cv2.waitKey(1) & 0xFF == ord('q'):\n",
    "        break\n",
    "\n",
    "if out1 is not None:\n",
    "    out1.release()\n",
    "    out2.release()\n",
    "cap1.release()\n",
    "cap2.release()\n",
    "cv2.destroyAllWindows()\n"
   ]
  },
  {
   "cell_type": "markdown",
   "id": "beebd6f2",
   "metadata": {},
   "source": [
    "## Code for positioning the cameras\n",
    "### De camera's worden getoond op het scherm. Is een check hoe dit script het camerabeeld toont. (Na het instellen van de zoom en positie via de Logitech-Camera app)"
   ]
  },
  {
   "cell_type": "code",
   "execution_count": 6,
   "id": "03669a86",
   "metadata": {},
   "outputs": [],
   "source": [
    "# Open the cameras\n",
    "cap1 = cv2.VideoCapture(1)  # Camera index 1\n",
    "cap2 = cv2.VideoCapture(2)  # Camera index 2\n",
    "\n",
    "# Check if the cameras are opened correctly\n",
    "if not cap1.isOpened() or not cap2.isOpened():\n",
    "    print(\"Unable to open one of the cameras.\")\n",
    "    exit()\n",
    "    \n",
    "# Read frames from the cameras and display them on the screen\n",
    "while True:\n",
    "    ret1, frame1 = cap1.read()\n",
    "    ret2, frame2 = cap2.read()\n",
    "    \n",
    "    # Display the frames on the screen\n",
    "    cv2.imshow('Camera 1', frame1)\n",
    "    cv2.imshow('Camera 2', frame2)\n",
    "    \n",
    "    # Wait for a key press and check if 'q' is pressed to exit the loop\n",
    "    if cv2.waitKey(1) & 0xFF == ord('q'):\n",
    "        break\n",
    "\n",
    "# Close all windows and release the resources\n",
    "cap1.release()\n",
    "cap2.release()\n",
    "cv2.destroyAllWindows()"
   ]
  },
  {
   "cell_type": "markdown",
   "id": "ea2cc5aa",
   "metadata": {},
   "source": [
    "## To Try, MPEG format"
   ]
  },
  {
   "cell_type": "code",
   "execution_count": null,
   "id": "4305f508",
   "metadata": {},
   "outputs": [],
   "source": [
    "import cv2\n",
    "\n",
    "camera = cv2.VideoCapture(0, cv2.CAP_DSHOW)\n",
    "\n",
    "camera.set(cv2.CAP_PROP_FPS, 30.0)\n",
    "camera.set(cv2.CAP_PROP_FOURCC, cv2.VideoWriter.fourcc('m','j','p','g'))\n",
    "camera.set(cv2.CAP_PROP_FOURCC, cv2.VideoWriter.fourcc('M','J','P','G'))\n",
    "camera.set(cv2.CAP_PROP_FRAME_WIDTH, 1920)\n",
    "camera.set(cv2.CAP_PROP_FRAME_HEIGHT, 1080)\n",
    "\n",
    "while (1):\n",
    "    retval, im = camera.read()\n",
    "    cv2.imshow(\"image\", im)\n",
    "\n",
    "    k = cv2.waitKey(1) & 0xff\n",
    "    if k == 27:\n",
    "        break\n",
    "\n",
    "camera.release()\n",
    "cv2.destroyAllWindows()"
   ]
  }
 ],
 "metadata": {
  "kernelspec": {
   "display_name": "Python 3 (ipykernel)",
   "language": "python",
   "name": "python3"
  },
  "language_info": {
   "codemirror_mode": {
    "name": "ipython",
    "version": 3
   },
   "file_extension": ".py",
   "mimetype": "text/x-python",
   "name": "python",
   "nbconvert_exporter": "python",
   "pygments_lexer": "ipython3",
   "version": "3.9.12"
  }
 },
 "nbformat": 4,
 "nbformat_minor": 5
}
