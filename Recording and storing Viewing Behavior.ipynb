{
 "cells": [
  {
   "cell_type": "markdown",
   "id": "e51c67c5",
   "metadata": {},
   "source": [
    "Install the neccessary libraries"
   ]
  },
  {
   "cell_type": "markdown",
   "id": "8f14850e",
   "metadata": {},
   "source": [
    "## Setup "
   ]
  },
  {
   "cell_type": "code",
   "execution_count": null,
   "id": "9bcd2c02",
   "metadata": {},
   "outputs": [],
   "source": [
    "pip install moviepy"
   ]
  },
  {
   "cell_type": "code",
   "execution_count": null,
   "id": "b57313b0",
   "metadata": {},
   "outputs": [],
   "source": [
    "import cv2\n",
    "import os"
   ]
  },
  {
   "cell_type": "markdown",
   "id": "40c0ed7d",
   "metadata": {},
   "source": [
    "## Start the cameras, display the video en start recording"
   ]
  },
  {
   "cell_type": "code",
   "execution_count": null,
   "id": "73dec16b",
   "metadata": {},
   "outputs": [],
   "source": [
    "# Define the storage path\n",
    "base_path = \"C:/GazeDetection/Behavior/\"\n",
    "recording_name = \"Behaviour_07052024_Wim_v1\"\n",
    "os.makedirs(os.path.join(base_path, recording_name), exist_ok=True)\n",
    "\n",
    "# Initialize the VideoCapture objects for both cameras\n",
    "cap1 = cv2.VideoCapture(1)  # Adjusted camera index\n",
    "cap2 = cv2.VideoCapture(2)  # Adjusted camera index\n",
    "\n",
    "# Initialize the VideoWriter objects\n",
    "fourcc = cv2.VideoWriter_fourcc(*'XVID')\n",
    "out1 = cv2.VideoWriter(os.path.join(base_path, recording_name, 'camera_1.avi'), fourcc, 20.0, (640, 480))\n",
    "out2 = cv2.VideoWriter(os.path.join(base_path, recording_name, 'camera_2.avi'), fourcc, 20.0, (640, 480))\n",
    "\n",
    "while True:\n",
    "    ret1, frame1 = cap1.read()\n",
    "    ret2, frame2 = cap2.read()\n",
    "\n",
    "    if ret1:\n",
    "        cv2.imshow('Camera 1', frame1)\n",
    "        out1.write(frame1)  # Record to file\n",
    "    if ret2:\n",
    "        cv2.imshow('Camera 2', frame2)\n",
    "        out2.write(frame2)  # Record to file\n",
    "\n",
    "    if cv2.waitKey(1) & 0xFF == ord('q'):\n",
    "        break\n",
    "\n",
    "# Release VideoCapture and VideoWriter objects\n",
    "out1.release()\n",
    "out2.release()\n",
    "cap1.release()\n",
    "cap2.release()\n",
    "cv2.destroyAllWindows()\n"
   ]
  },
  {
   "cell_type": "markdown",
   "id": "bc31c869",
   "metadata": {},
   "source": [
    "## Start the cameras, display the video, start recording (including audio)"
   ]
  },
  {
   "cell_type": "markdown",
   "id": "5788e072",
   "metadata": {},
   "source": [
    "Below is a recording including audio, using another library. It is intended to make (test) live recordings to test the model. This code does the following:\n",
    "\n",
    "start_ffmpeg function: This starts ffmpeg with the appropriate parameters to record video from both cameras and audio from the microphone. The video from both cameras is combined into a single video using the hstack filter.\n",
    "\n",
    "ffmpeg_thread: Starts the ffmpeg recording in a separate thread so that the OpenCV camera feeds can still be displayed.\n",
    "\n",
    "Main loop: Reads frames from both cameras and displays them in separate windows. You can also save these frames separately if desired.\n",
    "\n",
    "Closure: Ensures that all resources are properly released and waits for the ffmpeg thread to finish recording.\n",
    "\n",
    "Notes:\n",
    "\n",
    "Synchronization: This approach may have issues with synchronization between video and audio. For more robust solutions, you might consider dedicated video and audio recording hardware or deeper integrations with software like GStreamer."
   ]
  },
  {
   "cell_type": "markdown",
   "id": "4750c785",
   "metadata": {},
   "source": [
    " ## Remove the irrelevant parts at the beginning and end of the videos"
   ]
  },
  {
   "cell_type": "code",
   "execution_count": null,
   "id": "11c3c567",
   "metadata": {
    "scrolled": true
   },
   "outputs": [],
   "source": [
    "# Use the function\n",
    "video_path = r'C:\\GazeDetection\\Behavior\\Behaviour_07052024_Wim_v1\\camera_1.avi'  # Raw string, Path to your original video\n",
    "output_path = r'C:\\GazeDetection\\Behavior\\Behaviour_07052024_Wim_v1\\trimmed_camera_1.avi'  # Raw string, Path where the trimmed video will be saved\n",
    "start_trim = 82  # Start at 1 minute and 22 seconds\n",
    "end_trim = 700  # End at 11 minutes and 40 seconds\n",
    "trim_video(video_path, output_path, start_trim, end_trim)\n",
    "\n",
    "# Use the function\n",
    "video_path = r'C:\\GazeDetection\\Behavior\\Behaviour_07052024_Wim_v1\\camera_2.avi'  # Raw string, Path to your original video\n",
    "output_path = r'C:\\GazeDetection\\Behavior\\Behaviour_07052024_Wim_v1\\trimmed_camera_2.avi'  # Raw string, Path where the trimmed video will be saved\n",
    "start_trim = 82  # Start at 1 minute and 22 seconds\n",
    "end_trim = 700  # End at 11 minutes and 40 seconds\n",
    "trim_video(video_path, output_path, start_trim, end_trim)\n",
    "\n",
    "\n"
   ]
  },
  {
   "cell_type": "code",
   "execution_count": null,
   "id": "2a8e6110",
   "metadata": {},
   "outputs": [],
   "source": [
    "from moviepy.editor import VideoFileClip\n",
    "\n",
    "def trim_video(video_path, output_path, start_trim, end_trim):\n",
    "    # Load the video\n",
    "    clip = VideoFileClip(video_path)\n",
    "    \n",
    "    # Trim the video from start_trim to end_trim seconds\n",
    "    trimmed_clip = clip.subclip(start_trim, end_trim)\n",
    "    \n",
    "     # Save the trimmed video\n",
    "    trimmed_clip.write_videofile(output_path, codec='mpeg4')  # Change the codec to 'mpeg4'"
   ]
  },
  {
   "cell_type": "markdown",
   "id": "68463758",
   "metadata": {},
   "source": [
    "## Create Random List for Control Testvideo to check against Model"
   ]
  },
  {
   "cell_type": "code",
   "execution_count": 2,
   "id": "d1b8b3e7",
   "metadata": {},
   "outputs": [
    {
     "name": "stdout",
     "output_type": "stream",
     "text": [
      "The randomized list with numbering, labels, and Dutch translations has been saved to 'gaze_directions.txt'.\n"
     ]
    }
   ],
   "source": [
    "import random\n",
    "\n",
    "# Create an array containing the table data with an index\n",
    "table_data = [\n",
    "    [\"Label\", \"Label (NL)\", \"Gaze Direction\", \"Sentence\", \"Dutch Translation\"],\n",
    "    [\"forward\", \"Vooruit\", \"Forward\", \"Look forward.\", \"Kijk vooruit.\"],\n",
    "    [\"left\", \"Links\", \"Left\", \"Look to the left.\", \"Kijk naar links.\"],\n",
    "    [\"right\", \"Rechts\", \"Right\", \"Look to the right.\", \"Kijk naar rechts.\"],\n",
    "    [\"mirror_interior\", \"Binnenspiegel\", \"Interior Mirror\", \"Look at the interior mirror.\", \"Kijk in de binnenspiegel.\"],\n",
    "    [\"mirror_right\", \"Rechter Buitenspiegel\", \"Right Side Mirror\", \"Look at the right side mirror.\", \"Kijk in de rechter zijspiegel.\"],\n",
    "    [\"mirror_left\", \"Linker Buitenspiegel\", \"Left Side Mirror\", \"Look at the left side mirror.\", \"Kijk in de linker zijspiegel.\"],\n",
    "    [\"shoulder_right\", \"Rechterschouder\", \"Right Shoulder\", \"Look over your right shoulder.\", \"Kijk over je rechter schouder.\"],\n",
    "    [\"shoulder_left\", \"Linkerschouder\", \"Left Shoulder\", \"Look over your left shoulder.\", \"Kijk over je linker schouder.\"],\n",
    "    [\"dashboard_straight_down\", \"Dashboard\", \"Dashboard Straight Down\", \"Look straight down at the dashboard.\", \"Kijk recht naar beneden naar het dashboard.\"],\n",
    "    [\"dashboard_down_right\", \"Middenconsole\", \"Dashboard Down Towards Center Console\", \"Look down towards the center console.\", \"Kijk naar beneden naar de middenconsole.\"],\n",
    "    [\"forward_right\", \"Rechts vooruit\", \"Forward Right\", \"Look forward and to the right.\", \"Kijk vooruit en naar rechts.\"],\n",
    "    [\"forward_left\", \"Links vooruit\", \"Forward Left\", \"Look forward and to the left.\", \"Kijk vooruit en naar links.\"]\n",
    "]\n",
    "\n",
    "# Create a list with each label 5 times\n",
    "labels = [row[0] for row in table_data[1:]]\n",
    "dutch_labels = [row[1] for row in table_data[1:]]\n",
    "dutch_translations = [row[4] for row in table_data[1:]]\n",
    "label_list = labels * 5\n",
    "\n",
    "# Shuffle the list\n",
    "random.shuffle(label_list)\n",
    "\n",
    "# Replace English labels with Dutch translations and keep the original label\n",
    "dutch_label_list = []\n",
    "for label in label_list:\n",
    "    for row in table_data[1:]:\n",
    "        if label == row[0]:\n",
    "            dutch_label_list.append((row[1], row[4]))\n",
    "            break\n",
    "\n",
    "# Write the list to a notepad file with numbering and alignment\n",
    "with open('gaze_directions.txt', 'w', encoding='utf-8') as file:\n",
    "    for i, (dutch_label, dutch_translation) in enumerate(dutch_label_list, start=1):\n",
    "        file.write(f\"{i:2}. {dutch_label:<25} {dutch_translation}\\n\")\n",
    "\n",
    "print(\"The randomized list with numbering, labels, and Dutch translations has been saved to 'gaze_directions.txt'.\")\n"
   ]
  },
  {
   "cell_type": "code",
   "execution_count": null,
   "id": "d1af1e50",
   "metadata": {},
   "outputs": [],
   "source": []
  }
 ],
 "metadata": {
  "kernelspec": {
   "display_name": "Python 3 (ipykernel)",
   "language": "python",
   "name": "python3"
  },
  "language_info": {
   "codemirror_mode": {
    "name": "ipython",
    "version": 3
   },
   "file_extension": ".py",
   "mimetype": "text/x-python",
   "name": "python",
   "nbconvert_exporter": "python",
   "pygments_lexer": "ipython3",
   "version": "3.9.12"
  }
 },
 "nbformat": 4,
 "nbformat_minor": 5
}
