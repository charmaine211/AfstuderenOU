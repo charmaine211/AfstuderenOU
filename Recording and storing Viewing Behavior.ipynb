{
 "cells": [
  {
   "cell_type": "markdown",
   "id": "e51c67c5",
   "metadata": {},
   "source": [
    "Install the neccessary libraries"
   ]
  },
  {
   "cell_type": "markdown",
   "id": "8f14850e",
   "metadata": {},
   "source": [
    "## Setup "
   ]
  },
  {
   "cell_type": "code",
   "execution_count": null,
   "id": "9bcd2c02",
   "metadata": {},
   "outputs": [],
   "source": [
    "pip install moviepy"
   ]
  },
  {
   "cell_type": "code",
   "execution_count": null,
   "id": "b57313b0",
   "metadata": {},
   "outputs": [],
   "source": [
    "import cv2\n",
    "import os"
   ]
  },
  {
   "cell_type": "markdown",
   "id": "40c0ed7d",
   "metadata": {},
   "source": [
    "## Start the cameras, display the video, and record after pressing the spacebar."
   ]
  },
  {
   "cell_type": "code",
   "execution_count": null,
   "id": "73dec16b",
   "metadata": {},
   "outputs": [],
   "source": [
    "# Define the storage path\n",
    "base_path = \"C:/GazeDetection/Behavior/\"\n",
    "recording_name = \"Behaviour_07052024_Wim_v1\"\n",
    "os.makedirs(os.path.join(base_path, recording_name), exist_ok=True)\n",
    "\n",
    "# Initialize the VideoCapture objects for both cameras\n",
    "cap1 = cv2.VideoCapture(1)  # Adjusted camera index\n",
    "cap2 = cv2.VideoCapture(2)  # Adjusted camera index\n",
    "\n",
    "# Initialize the VideoWriter objects\n",
    "fourcc = cv2.VideoWriter_fourcc(*'XVID')\n",
    "out1 = cv2.VideoWriter(os.path.join(base_path, recording_name, 'camera_1.avi'), fourcc, 20.0, (640, 480))\n",
    "out2 = cv2.VideoWriter(os.path.join(base_path, recording_name, 'camera_2.avi'), fourcc, 20.0, (640, 480))\n",
    "\n",
    "while True:\n",
    "    ret1, frame1 = cap1.read()\n",
    "    ret2, frame2 = cap2.read()\n",
    "\n",
    "    if ret1:\n",
    "        cv2.imshow('Camera 1', frame1)\n",
    "        out1.write(frame1)  # Record to file\n",
    "    if ret2:\n",
    "        cv2.imshow('Camera 2', frame2)\n",
    "        out2.write(frame2)  # Record to file\n",
    "\n",
    "    if cv2.waitKey(1) & 0xFF == ord('q'):\n",
    "        break\n",
    "\n",
    "# Release VideoCapture and VideoWriter objects\n",
    "out1.release()\n",
    "out2.release()\n",
    "cap1.release()\n",
    "cap2.release()\n",
    "cv2.destroyAllWindows()\n"
   ]
  },
  {
   "cell_type": "markdown",
   "id": "4750c785",
   "metadata": {},
   "source": [
    " ## Remove the irrelevant parts at the beginning and end of the videos"
   ]
  },
  {
   "cell_type": "code",
   "execution_count": null,
   "id": "11c3c567",
   "metadata": {
    "scrolled": true
   },
   "outputs": [],
   "source": [
    "# Use the function\n",
    "video_path = r'C:\\GazeDetection\\Behavior\\Behaviour_07052024_Wim_v1\\camera_1.avi'  # Raw string, Path to your original video\n",
    "output_path = r'C:\\GazeDetection\\Behavior\\Behaviour_07052024_Wim_v1\\trimmed_camera_1.avi'  # Raw string, Path where the trimmed video will be saved\n",
    "start_trim = 82  # Start at 1 minute and 22 seconds\n",
    "end_trim = 700  # End at 11 minutes and 40 seconds\n",
    "trim_video(video_path, output_path, start_trim, end_trim)\n",
    "\n",
    "# Use the function\n",
    "video_path = r'C:\\GazeDetection\\Behavior\\Behaviour_07052024_Wim_v1\\camera_2.avi'  # Raw string, Path to your original video\n",
    "output_path = r'C:\\GazeDetection\\Behavior\\Behaviour_07052024_Wim_v1\\trimmed_camera_2.avi'  # Raw string, Path where the trimmed video will be saved\n",
    "start_trim = 82  # Start at 1 minute and 22 seconds\n",
    "end_trim = 700  # End at 11 minutes and 40 seconds\n",
    "trim_video(video_path, output_path, start_trim, end_trim)\n",
    "\n",
    "\n"
   ]
  },
  {
   "cell_type": "code",
   "execution_count": null,
   "id": "2a8e6110",
   "metadata": {},
   "outputs": [],
   "source": [
    "from moviepy.editor import VideoFileClip\n",
    "\n",
    "def trim_video(video_path, output_path, start_trim, end_trim):\n",
    "    # Load the video\n",
    "    clip = VideoFileClip(video_path)\n",
    "    \n",
    "    # Trim the video from start_trim to end_trim seconds\n",
    "    trimmed_clip = clip.subclip(start_trim, end_trim)\n",
    "    \n",
    "     # Save the trimmed video\n",
    "    trimmed_clip.write_videofile(output_path, codec='mpeg4')  # Change the codec to 'mpeg4'"
   ]
  }
 ],
 "metadata": {
  "kernelspec": {
   "display_name": "Python 3 (ipykernel)",
   "language": "python",
   "name": "python3"
  },
  "language_info": {
   "codemirror_mode": {
    "name": "ipython",
    "version": 3
   },
   "file_extension": ".py",
   "mimetype": "text/x-python",
   "name": "python",
   "nbconvert_exporter": "python",
   "pygments_lexer": "ipython3",
   "version": "3.9.12"
  }
 },
 "nbformat": 4,
 "nbformat_minor": 5
}
