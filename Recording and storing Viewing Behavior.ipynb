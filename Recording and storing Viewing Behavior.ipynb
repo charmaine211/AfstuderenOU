{
 "cells": [
  {
   "cell_type": "markdown",
   "id": "e51c67c5",
   "metadata": {},
   "source": [
    "Install the neccessary libraries"
   ]
  },
  {
   "cell_type": "code",
   "execution_count": 1,
   "id": "b57313b0",
   "metadata": {},
   "outputs": [],
   "source": [
    "import cv2\n",
    "import os"
   ]
  },
  {
   "cell_type": "raw",
   "id": "6ace8153",
   "metadata": {},
   "source": [
    "Start the cameras, display the video, and record after pressing the spacebar."
   ]
  },
  {
   "cell_type": "code",
   "execution_count": 2,
   "id": "73dec16b",
   "metadata": {},
   "outputs": [
    {
     "ename": "SyntaxError",
     "evalue": "'break' outside loop (3496581459.py, line 34)",
     "output_type": "error",
     "traceback": [
      "\u001b[1;36m  Input \u001b[1;32mIn [2]\u001b[1;36m\u001b[0m\n\u001b[1;33m    break\u001b[0m\n\u001b[1;37m    ^\u001b[0m\n\u001b[1;31mSyntaxError\u001b[0m\u001b[1;31m:\u001b[0m 'break' outside loop\n"
     ]
    }
   ],
   "source": [
    "# Definieer pad voor opslag\n",
    "base_path = \"C:/GazeDetection/Behavior/\"\n",
    "recording_name = \"Behaviour_07052024_Wim_v1\"\n",
    "\n",
    "# Initialisatie van de VideoCapture objecten voor beide camera's\n",
    "cap1 = cv2.VideoCapture(1)  # Camera index 0\n",
    "cap2 = cv2.VideoCapture(2)  # Camera index 1\n",
    "\n",
    "# Wacht tot de spatiebalk wordt ingedrukt om de opname te starten\n",
    "# print(\"Druk op de spatiebalk om de opname te starten...\")\n",
    "# while True:\n",
    "#    if cv2.waitKey(1) & 0xFF == ord(' '):\n",
    "#        break\n",
    "\n",
    "# Initialisatie van de VideoWriter objecten voor beide camera's na het indrukken van de spatiebalk\n",
    "fourcc = cv2.VideoWriter_fourcc(*'XVID')\n",
    "out1 = cv2.VideoWriter(os.path.join(base_path, recording_name, 'camera_1.avi'), fourcc, 20.0, (640, 480))\n",
    "out2 = cv2.VideoWriter(os.path.join(base_path, recording_name, 'camera_2.avi'), fourcc, 20.0, (640, 480))\n",
    "\n",
    "ret1, frame1 = cap1.read()\n",
    "ret2, frame2 = cap2.read()\n",
    "    \n",
    "# Display the frames on the screen\n",
    "cv2.imshow('Camera 1', frame1)\n",
    "cv2.imshow('Camera 2', frame2)\n",
    "    \n",
    "if ret1:\n",
    "    out1.write(frame1)\n",
    "if ret2:\n",
    "    out2.write(frame2)\n",
    "\n",
    "# Stop de opname wanneer 'q' wordt ingedrukt\n",
    "if cv2.waitKey(1) & 0xFF == ord('q'):\n",
    "    break\n",
    "\n",
    "# Release VideoCapture en VideoWriter objecten\n",
    "out1.release()\n",
    "out2.release()\n",
    "cap1.release()\n",
    "cap2.release()\n",
    "cv2.destroyAllWindows()\n"
   ]
  },
  {
   "cell_type": "code",
   "execution_count": null,
   "id": "7a48a36b",
   "metadata": {},
   "outputs": [],
   "source": [
    " "
   ]
  }
 ],
 "metadata": {
  "kernelspec": {
   "display_name": "Python 3 (ipykernel)",
   "language": "python",
   "name": "python3"
  },
  "language_info": {
   "codemirror_mode": {
    "name": "ipython",
    "version": 3
   },
   "file_extension": ".py",
   "mimetype": "text/x-python",
   "name": "python",
   "nbconvert_exporter": "python",
   "pygments_lexer": "ipython3",
   "version": "3.9.12"
  }
 },
 "nbformat": 4,
 "nbformat_minor": 5
}
