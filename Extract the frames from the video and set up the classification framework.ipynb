{
 "cells": [
  {
   "cell_type": "markdown",
   "id": "e71d4266",
   "metadata": {},
   "source": [
    "# Extract the frames out of the videos and set up the classifcation framework"
   ]
  },
  {
   "cell_type": "markdown",
   "id": "8085da45",
   "metadata": {},
   "source": [
    "## Setup"
   ]
  },
  {
   "cell_type": "code",
   "execution_count": 1,
   "id": "6b1e046c",
   "metadata": {},
   "outputs": [],
   "source": [
    "import os\n",
    "import cv2\n",
    "import shutil\n",
    "import random"
   ]
  },
  {
   "cell_type": "markdown",
   "id": "0c85021b",
   "metadata": {},
   "source": [
    "### Setup Global Variables"
   ]
  },
  {
   "cell_type": "code",
   "execution_count": 2,
   "id": "e58feca4",
   "metadata": {},
   "outputs": [],
   "source": [
    "# Declareer globale variabelen\n",
    "global interval \n",
    "\n",
    "# Initialiseer de variabelen\n",
    "interval = 3"
   ]
  },
  {
   "cell_type": "markdown",
   "id": "b5ea8f68",
   "metadata": {},
   "source": [
    "### The table data met labels (copy of the collect data)"
   ]
  },
  {
   "cell_type": "code",
   "execution_count": 3,
   "id": "3b866380",
   "metadata": {},
   "outputs": [],
   "source": [
    "# Create an array containing the table data with an index\n",
    "table_data = [\n",
    "    [\"Label\", \"Gaze Direction\", \"Sentence\"],\n",
    "    [\"forward\", \"Forward\", \"Look forward.\"],\n",
    "    [\"left\", \"Left\", \"Look to the left.\"],\n",
    "    [\"right\", \"Right\", \"Look to the right.\"],\n",
    "    [\"mirror_interior\", \"Interior Mirror\", \"Look at the interior mirror.\"],\n",
    "    [\"mirror_right\", \"Right Side Mirror\", \"Look at the right side mirror.\"],\n",
    "    [\"mirror_left\", \"Left Side Mirror\", \"Look at the left side mirror.\"],\n",
    "    [\"shoulder_right\", \"Right Shoulder\", \"Look over your right shoulder.\"],\n",
    "    [\"shoulder_left\", \"Left Shoulder\", \"Look over your left shoulder.\"],\n",
    "    [\"dashboard_straight_down\", \"Dashboard Straight Down\", \"Look straight down at the dashboard.\"],\n",
    "    [\"dashboard_down_right\", \"Dashboard Down Towards Center Console\", \"Look down towards the center console.\"],\n",
    "    [\"forward_right\", \"Forward Right\", \"Look forward and to the right.\"],\n",
    "    [\"forward_left\", \"Forward Left\", \"Look forward and to the left.\"]\n",
    "]\n",
    "\n",
    "# To access, for example, the row for \"forward_right\" and its Sentence column:\n",
    "# Note that Python is 0-indexed, so row 11 (forward_right) is at index 10 in the array\n",
    "# print(table_data[11][2])  # Output: Look forward and to the right.\n"
   ]
  },
  {
   "cell_type": "markdown",
   "id": "43e3b0c9",
   "metadata": {},
   "source": [
    "## Iterate over the collected data, call the extract function and divide the files on the directories train, test and val. "
   ]
  },
  {
   "cell_type": "markdown",
   "id": "6ae0ba5c",
   "metadata": {},
   "source": [
    "### Interate over the labels and ranges"
   ]
  },
  {
   "cell_type": "code",
   "execution_count": 12,
   "id": "ea0684cd",
   "metadata": {},
   "outputs": [
    {
     "name": "stdout",
     "output_type": "stream",
     "text": [
      "Label: forward\n",
      "Aantal bestanden in de directory train: 1016\n",
      "Moved 101 files to directory test\n",
      "Aantal bestanden in de directory train: 915\n",
      "Moved 91 files to directory val\n",
      "Label: left\n",
      "Aantal bestanden in de directory train: 920\n",
      "Moved 92 files to directory test\n",
      "Aantal bestanden in de directory train: 828\n",
      "Moved 82 files to directory val\n",
      "Label: right\n",
      "Aantal bestanden in de directory train: 1018\n",
      "Moved 101 files to directory test\n",
      "Aantal bestanden in de directory train: 917\n",
      "Moved 91 files to directory val\n",
      "Label: mirror_interior\n",
      "Aantal bestanden in de directory train: 1014\n",
      "Moved 101 files to directory test\n",
      "Aantal bestanden in de directory train: 913\n",
      "Moved 91 files to directory val\n",
      "Label: mirror_right\n",
      "Aantal bestanden in de directory train: 1016\n",
      "Moved 101 files to directory test\n",
      "Aantal bestanden in de directory train: 915\n",
      "Moved 91 files to directory val\n",
      "Label: mirror_left\n",
      "Aantal bestanden in de directory train: 1018\n",
      "Moved 101 files to directory test\n",
      "Aantal bestanden in de directory train: 917\n",
      "Moved 91 files to directory val\n",
      "Label: shoulder_right\n",
      "Aantal bestanden in de directory train: 1002\n",
      "Moved 100 files to directory test\n",
      "Aantal bestanden in de directory train: 902\n",
      "Moved 90 files to directory val\n",
      "Label: shoulder_left\n",
      "Aantal bestanden in de directory train: 1016\n",
      "Moved 101 files to directory test\n",
      "Aantal bestanden in de directory train: 915\n",
      "Moved 91 files to directory val\n",
      "Label: dashboard_straight_down\n",
      "Aantal bestanden in de directory train: 1018\n",
      "Moved 101 files to directory test\n",
      "Aantal bestanden in de directory train: 917\n",
      "Moved 91 files to directory val\n",
      "Label: dashboard_down_right\n",
      "Aantal bestanden in de directory train: 1018\n",
      "Moved 101 files to directory test\n",
      "Aantal bestanden in de directory train: 917\n",
      "Moved 91 files to directory val\n",
      "Label: forward_right\n",
      "Aantal bestanden in de directory train: 1018\n",
      "Moved 101 files to directory test\n",
      "Aantal bestanden in de directory train: 917\n",
      "Moved 91 files to directory val\n",
      "Label: forward_left\n",
      "Aantal bestanden in de directory train: 1014\n",
      "Moved 101 files to directory test\n",
      "Aantal bestanden in de directory train: 913\n",
      "Moved 91 files to directory val\n"
     ]
    }
   ],
   "source": [
    "base_path = r\"C:\\GazeDetection\\test_recording_correct_upload\"  # Base path\n",
    "\n",
    "for row in table_data[1:]:  # Start at index 1 to skip the header\n",
    "    label = row[0]\n",
    "    print(f\"Label: {label}\")\n",
    "    outputpad = os.path.join(base_path, \"train\", label)  # Creates the full path for the new directory (train)\n",
    "\n",
    "    if not os.path.exists(outputpad):  # Check if the directory does not exist yet\n",
    "        os.makedirs(outputpad)  # Create the directory\n",
    "\n",
    "    for i in range(1, 11):  # Iterate over the numbers 1 through 10\n",
    "        filepad = f\"{base_path}\\\\{label}\\\\{i}\"  # Create the path for this label and number\n",
    "\n",
    "        # Handle camera 1\n",
    "        file1 = f\"{filepad}\\\\camera_1.avi\"  # Filename for camera 1\n",
    "        camera = 1\n",
    "        extract_frames(file1, outputpad, camera, interval, i)\n",
    "\n",
    "        # Handle camera 2\n",
    "        file2 = f\"{filepad}\\\\camera_2.avi\"  # Filename for camera 2\n",
    "        camera = 2\n",
    "        extract_frames(file2, outputpad, camera, interval, i)\n",
    "\n",
    "    # Divide to test directory after finishing all iterations of i\n",
    "    source_directory = outputpad  # Source folder\n",
    "    destination_directory = os.path.join(base_path, \"test\", label)  # Target folder\n",
    "\n",
    "    if not os.path.exists(destination_directory):  # Check if the directory does not exist yet\n",
    "        os.makedirs(destination_directory)  # Create the directory\n",
    "\n",
    "    moved_files_count = divide(source_directory, destination_directory, 10)  # Moving 10% of the files\n",
    "    print(f\"Moved {moved_files_count} files to directory test\")\n",
    "\n",
    "    # Divide to val directory after finishing all iterations of i\n",
    "    destination_directory = os.path.join(base_path, \"val\", label)  # Target folder\n",
    "\n",
    "    if not os.path.exists(destination_directory):  # Check if the directory does not exist yet\n",
    "        os.makedirs(destination_directory)  # Create the directory\n",
    "\n",
    "    moved_files_count = divide(source_directory, destination_directory, 10)  # Moving 10% of the files\n",
    "    print(f\"Moved {moved_files_count} files to directory val\")\n"
   ]
  },
  {
   "cell_type": "markdown",
   "id": "595c4f5c",
   "metadata": {},
   "source": [
    "### Extract de frames out the videos and save in the output_dir"
   ]
  },
  {
   "cell_type": "code",
   "execution_count": 4,
   "id": "002860fa",
   "metadata": {},
   "outputs": [],
   "source": [
    "def extract_frames(video_path, output_dir, camera, interval, frequentie):\n",
    "    \"\"\"\n",
    "    Extract frames from a video file and save them to a specified directory.\n",
    "\n",
    "    Parameters:\n",
    "    - video_path: Path to the video file.\n",
    "    - output_dir: Directory where extracted frames will be saved.\n",
    "    - interval: Interval between frames to extract. Default is every 3rd frame.\n",
    "    - max_frames: Maximum number of frames to extract. Default is 30 frames.\n",
    "\n",
    "    Returns:\n",
    "    - None\n",
    "    \"\"\"\n",
    "\n",
    "    # Initialize video object\n",
    "    cap = cv2.VideoCapture(video_path)\n",
    "\n",
    "    # Check if the video was opened successfully\n",
    "    if not cap.isOpened():\n",
    "        print(f\"Error: Could not open video {video_path}\")\n",
    "        return\n",
    "    \n",
    "    # Retrieve the total number of frames in the video\n",
    "    total_frames = int(cap.get(cv2.CAP_PROP_FRAME_COUNT))\n",
    "\n",
    "    # Initialize frame index\n",
    "    frame_idx = 0\n",
    "\n",
    "    # List for storing extracted frames (optional, depending on your needs)\n",
    "    extracted_frames = []\n",
    "\n",
    "    while True:\n",
    "        # Read the current frame\n",
    "        ret, frame = cap.read()\n",
    "\n",
    "        # Stop the loop if the frame is not successfully read or if we have already extracted the desired number of frames\n",
    "        if not ret or len(extracted_frames) >= total_frames:\n",
    "            break\n",
    "\n",
    "        # Check if the current frame index is a multiple of the interval\n",
    "        if frame_idx % interval == 0:\n",
    "            extracted_frames.append(frame)  # Optional: Store frame in list\n",
    "            # Save frame as an image file\n",
    "            filename = f\"{label}_camera_{camera}_cyclus_{frequentie}_frame_{frame_idx}.jpg\"\n",
    "            frame_file = os.path.join(output_dir, filename)\n",
    "            cv2.imwrite(frame_file, frame)\n",
    "\n",
    "        frame_idx += 1\n",
    "\n",
    "    # Release the video capture object\n",
    "    cap.release()\n"
   ]
  },
  {
   "cell_type": "markdown",
   "id": "73b657c9",
   "metadata": {},
   "source": [
    "### Moves an percentage of the files from one folder to another."
   ]
  },
  {
   "cell_type": "code",
   "execution_count": 11,
   "id": "785437b8",
   "metadata": {},
   "outputs": [],
   "source": [
    "def divide(source_dir, target_dir, percentage):\n",
    "    \"\"\"\n",
    "    Moves a specified percentage of photos from a source directory to a target directory randomly.\n",
    "\n",
    "    Parameters:\n",
    "    source_dir (str): The path to the source directory containing the photos.\n",
    "    target_dir (str): The path to the target directory where the photos will be moved.\n",
    "    percentage (int): The percentage of files to be moved.\n",
    "\n",
    "    Returns:\n",
    "    int: The number of files moved.\n",
    "    \"\"\"\n",
    "    # Check if the target directory exists, create it if not\n",
    "    if not os.path.exists(target_dir):\n",
    "        os.makedirs(target_dir)\n",
    "\n",
    "    # List of all files in the source directory\n",
    "    files = [f for f in os.listdir(source_dir) if os.path.isfile(os.path.join(source_dir, f))]\n",
    "    print(\"Aantal bestanden in de directory train:\", len(files))\n",
    "\n",
    "    # Determine the percentage of total files to move (round down)\n",
    "    sample_size = max(1, len(files) * percentage // 100)  # Ensure at least one file is moved\n",
    "\n",
    "    # Randomly select the calculated percentage of files\n",
    "    selected_files = random.sample(files, sample_size)\n",
    "\n",
    "    # Move the selected files to the target directory\n",
    "    for file in selected_files:\n",
    "        shutil.move(os.path.join(source_dir, file), os.path.join(target_dir, file))\n",
    "\n",
    "    return len(selected_files)"
   ]
  },
  {
   "cell_type": "code",
   "execution_count": null,
   "id": "083e9f56",
   "metadata": {},
   "outputs": [],
   "source": []
  }
 ],
 "metadata": {
  "kernelspec": {
   "display_name": "Python 3 (ipykernel)",
   "language": "python",
   "name": "python3"
  },
  "language_info": {
   "codemirror_mode": {
    "name": "ipython",
    "version": 3
   },
   "file_extension": ".py",
   "mimetype": "text/x-python",
   "name": "python",
   "nbconvert_exporter": "python",
   "pygments_lexer": "ipython3",
   "version": "3.9.12"
  }
 },
 "nbformat": 4,
 "nbformat_minor": 5
}
