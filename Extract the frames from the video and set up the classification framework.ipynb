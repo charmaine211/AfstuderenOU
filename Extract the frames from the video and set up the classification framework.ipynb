{
 "cells": [
  {
   "cell_type": "markdown",
   "id": "e71d4266",
   "metadata": {},
   "source": [
    "# Extract the frames out of the videos and set up the classifcation framework"
   ]
  },
  {
   "cell_type": "markdown",
   "id": "8085da45",
   "metadata": {},
   "source": [
    "## Setup"
   ]
  },
  {
   "cell_type": "code",
   "execution_count": null,
   "id": "6b1e046c",
   "metadata": {},
   "outputs": [],
   "source": [
    "import os\n",
    "import cv2\n",
    "import shutil\n",
    "import random\n",
    "import json\n",
    "import time"
   ]
  },
  {
   "cell_type": "markdown",
   "id": "0c85021b",
   "metadata": {},
   "source": [
    "### Setup Global Variables"
   ]
  },
  {
   "cell_type": "code",
   "execution_count": null,
   "id": "e58feca4",
   "metadata": {},
   "outputs": [],
   "source": [
    "# Declareer globale variabelen\n",
    "global interval \n",
    "\n",
    "# Initialiseer de variabelen\n",
    "interval = 3"
   ]
  },
  {
   "cell_type": "markdown",
   "id": "b5ea8f68",
   "metadata": {},
   "source": [
    "### The table data met labels (copy of the collect data)"
   ]
  },
  {
   "cell_type": "code",
   "execution_count": null,
   "id": "3b866380",
   "metadata": {},
   "outputs": [],
   "source": [
    "# Create an array containing the table data with an index\n",
    "table_data = [\n",
    "    [\"Label\", \"Gaze Direction\", \"Sentence\"],\n",
    "    [\"forward\", \"Forward\", \"Look forward.\"],\n",
    "    [\"left\", \"Left\", \"Look to the left.\"],\n",
    "    [\"right\", \"Right\", \"Look to the right.\"],\n",
    "    [\"mirror_interior\", \"Interior Mirror\", \"Look at the interior mirror.\"],\n",
    "    [\"mirror_right\", \"Right Side Mirror\", \"Look at the right side mirror.\"],\n",
    "    [\"mirror_left\", \"Left Side Mirror\", \"Look at the left side mirror.\"],\n",
    "    [\"shoulder_right\", \"Right Shoulder\", \"Look over your right shoulder.\"],\n",
    "    [\"shoulder_left\", \"Left Shoulder\", \"Look over your left shoulder.\"],\n",
    "    [\"dashboard_straight_down\", \"Dashboard Straight Down\", \"Look straight down at the dashboard.\"],\n",
    "    [\"dashboard_down_right\", \"Dashboard Down Towards Center Console\", \"Look down towards the center console.\"],\n",
    "    [\"forward_right\", \"Forward Right\", \"Look forward and to the right.\"],\n",
    "    [\"forward_left\", \"Forward Left\", \"Look forward and to the left.\"]\n",
    "]\n",
    "\n",
    "# To access, for example, the row for \"forward_right\" and its Sentence column:\n",
    "# Note that Python is 0-indexed, so row 11 (forward_right) is at index 10 in the array\n",
    "# print(table_data[11][2])  # Output: Look forward and to the right.\n"
   ]
  },
  {
   "cell_type": "markdown",
   "id": "43e3b0c9",
   "metadata": {},
   "source": [
    "## Iterate over the collected data, call the extract function and divide the files on the directories train, test and val. "
   ]
  },
  {
   "cell_type": "markdown",
   "id": "6ae0ba5c",
   "metadata": {},
   "source": [
    "### Interate over the labels and ranges"
   ]
  },
  {
   "cell_type": "code",
   "execution_count": null,
   "id": "ea0684cd",
   "metadata": {},
   "outputs": [],
   "source": [
    "base_path = r\"C:\\GazeDetection\\test_recording_correct_upload_4\"\n",
    "metadata_list = []\n",
    "frame_counts = {}  # Dictionary om de frame tellingen per dataset type bij te houden\n",
    "\n",
    "for row in table_data[1:]:  # Header overslaan\n",
    "    label = row[0]\n",
    "    print(f\"Label: {label}\")\n",
    "    output_dir = os.path.join(base_path, \"train\", label)\n",
    "    frame_counts[label] = {'train': 0, 'test': 0, 'val': 0}  # Initialisatie van tellingen\n",
    "\n",
    "    if not os.path.exists(output_dir):\n",
    "        os.makedirs(output_dir)\n",
    "\n",
    "    for i in range(1, 11):  # Aanname dat er 10 video's per label zijn\n",
    "        file_dir = os.path.join(base_path, label, str(i))\n",
    "        for camera in [1, 2]:\n",
    "            video_path = os.path.join(file_dir, f\"camera_{camera}.avi\")\n",
    "            metadata = extract_frames(video_path, output_dir, camera, 5, i, label)  # Aannemend dat extract_frames correct is gedefinieerd\n",
    "            if metadata:\n",
    "                metadata_list.append(metadata)\n",
    "                frame_counts[label]['train'] += metadata['extracted_frame_count']  # Aantal geëxtraheerde frames optellen bij train\n",
    "\n",
    "    # Bepaal hoeveel bestanden verplaatst moeten worden (10%)\n",
    "    files = os.listdir(output_dir)\n",
    "    num_files_to_move = max(1, len(files) // 10)\n",
    "\n",
    "    # Maak directories als ze nog niet bestaan\n",
    "    test_directory = os.path.join(base_path, \"test\", label)\n",
    "    val_directory = os.path.join(base_path, \"val\", label)\n",
    "    os.makedirs(test_directory, exist_ok=True)\n",
    "    os.makedirs(val_directory, exist_ok=True)\n",
    "\n",
    "    # Verplaats bestanden naar 'test' en 'val'\n",
    "    frame_counts[label]['test'] = divide(output_dir, test_directory, num_files_to_move)\n",
    "    frame_counts[label]['val'] = divide(output_dir, val_directory, num_files_to_move)\n",
    "    print(f\"Label: {label}, Train: {len(files) - num_files_to_move*2}, Test: {frame_counts[label]['test']}, Val: {frame_counts[label]['val']}\")\n",
    "\n",
    "# Schrijf metadata en frame tellingen naar de readme.txt file\n",
    "readme_path = os.path.join(base_path, \"readme.txt\")\n",
    "with open(readme_path, 'w') as f:\n",
    "    for meta in metadata_list:\n",
    "        f.write(json.dumps(meta, indent=4) + '\\n')\n",
    "    f.write(\"\\nFrame Counts by Label:\\n\")\n",
    "    for label, counts in frame_counts.items():\n",
    "        # Gebruik enkele aanhalingstekens binnen de os.path.join om conflicten te vermijden\n",
    "        train_files_dir = os.path.join(base_path, 'train', label)\n",
    "        train_count = len(os.listdir(train_files_dir))\n",
    "        f.write(f\"Label: {label}, Train: {train_count}, Test: {counts['test']}, Val: {counts['val']}\\n\")"
   ]
  },
  {
   "cell_type": "markdown",
   "id": "595c4f5c",
   "metadata": {},
   "source": [
    "### Extract de frames out the videos and save in the output_dir"
   ]
  },
  {
   "cell_type": "code",
   "execution_count": null,
   "id": "002860fa",
   "metadata": {},
   "outputs": [],
   "source": [
    "def extract_frames(video_path, output_dir, camera, interval, frequentie, label):\n",
    "    # Initialize the video capture object\n",
    "    cap = cv2.VideoCapture(video_path)\n",
    "    if not cap.isOpened():\n",
    "        print(f\"Error: Could not open video {video_path}\")\n",
    "        return None\n",
    "\n",
    "    # Get video properties\n",
    "    total_frames = int(cap.get(cv2.CAP_PROP_FRAME_COUNT))\n",
    "    fps = cap.get(cv2.CAP_PROP_FPS)\n",
    "    width = int(cap.get(cv2.CAP_PROP_FRAME_WIDTH))\n",
    "    height = int(cap.get(cv2.CAP_PROP_FRAME_HEIGHT))\n",
    "    \n",
    "    # Initialize frame index and list to store extracted frames\n",
    "    frame_idx = 0\n",
    "    extracted_frames_count = 0\n",
    "\n",
    "    # Process the video and extract frames\n",
    "    while frame_idx < total_frames:\n",
    "        ret, frame = cap.read()\n",
    "        if not ret:\n",
    "            break\n",
    "        if frame_idx % interval == 0:\n",
    "            filename = f\"{label}_camera_{camera}_cycle_{frequentie}_frame_{frame_idx}.jpg\"\n",
    "            frame_file = os.path.join(output_dir, filename)\n",
    "            cv2.imwrite(frame_file, frame)\n",
    "            extracted_frames_count += 1\n",
    "        frame_idx += 1\n",
    "\n",
    "    # Release the video capture object\n",
    "    cap.release()\n",
    "    \n",
    "    # Determine the time and date from file modification time\n",
    "    mod_time = os.path.getmtime(video_path)\n",
    "    time_date_recorded = time.strftime('%Y-%m-%d %H:%M:%S', time.localtime(mod_time))\n",
    "\n",
    "    # Return metadata for the video\n",
    "    metadata = {\n",
    "        'filename': os.path.join(label, os.path.basename(video_path)),\n",
    "        'time_date_recorded': time_date_recorded,\n",
    "        'fps': fps,\n",
    "        'width': width,\n",
    "        'height': height,\n",
    "        'frame_count': total_frames,\n",
    "        'extracted_frame_count': extracted_frames_count\n",
    "    }\n",
    "    return metadata\n"
   ]
  },
  {
   "cell_type": "markdown",
   "id": "73b657c9",
   "metadata": {},
   "source": [
    "### Moves an percentage of the files from one folder to another."
   ]
  },
  {
   "cell_type": "code",
   "execution_count": null,
   "id": "785437b8",
   "metadata": {},
   "outputs": [],
   "source": [
    "def divide(source_dir, target_dir, num_files_to_move):\n",
    "    files = random.sample(os.listdir(source_dir), num_files_to_move)\n",
    "    for file in files:\n",
    "        shutil.move(os.path.join(source_dir, file), os.path.join(target_dir, file))\n",
    "    return len(files)"
   ]
  },
  {
   "cell_type": "code",
   "execution_count": null,
   "id": "b08fa346",
   "metadata": {},
   "outputs": [],
   "source": []
  }
 ],
 "metadata": {
  "kernelspec": {
   "display_name": "Python 3 (ipykernel)",
   "language": "python",
   "name": "python3"
  },
  "language_info": {
   "codemirror_mode": {
    "name": "ipython",
    "version": 3
   },
   "file_extension": ".py",
   "mimetype": "text/x-python",
   "name": "python",
   "nbconvert_exporter": "python",
   "pygments_lexer": "ipython3",
   "version": "3.9.12"
  }
 },
 "nbformat": 4,
 "nbformat_minor": 5
}
